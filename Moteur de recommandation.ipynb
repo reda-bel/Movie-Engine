{
 "cells": [
  {
   "cell_type": "code",
   "execution_count": 128,
   "metadata": {},
   "outputs": [],
   "source": [
    "# coding: utf-8\n",
    "import pandas as pd\n",
    "import numpy as np\n",
    "import math\n",
    "from sklearn.feature_extraction.text import CountVectorizer\n",
    "from sklearn.metrics.pairwise import cosine_similarity"
   ]
  },
  {
   "cell_type": "code",
   "execution_count": 164,
   "metadata": {},
   "outputs": [],
   "source": [
    "# read the csv file\n",
    "df = pd.read_csv(\"movie_db.csv\", sep='\\t',low_memory=False)"
   ]
  },
  {
   "cell_type": "code",
   "execution_count": 165,
   "metadata": {},
   "outputs": [
    {
     "data": {
      "text/plain": [
       "Index(['color', 'director_name', 'num_critic_for_reviews', 'duration',\n",
       "       'director_facebook_likes', 'actor_3_facebook_likes', 'actor_2_name',\n",
       "       'actor_1_facebook_likes', 'gross', 'genres', 'actor_1_name',\n",
       "       'movie_title', 'num_voted_users', 'cast_total_facebook_likes',\n",
       "       'actor_3_name', 'facenumber_in_poster', 'plot_keywords',\n",
       "       'movie_imdb_link', 'num_user_for_reviews', 'language', 'country',\n",
       "       'content_rating', 'budget', 'title_year', 'actor_2_facebook_likes',\n",
       "       'imdb_score', 'aspect_ratio', 'movie_facebook_likes'],\n",
       "      dtype='object')"
      ]
     },
     "execution_count": 165,
     "metadata": {},
     "output_type": "execute_result"
    }
   ],
   "source": [
    "df.columns"
   ]
  },
  {
   "cell_type": "code",
   "execution_count": 166,
   "metadata": {},
   "outputs": [],
   "source": [
    "df=df.fillna('')"
   ]
  },
  {
   "cell_type": "code",
   "execution_count": 167,
   "metadata": {},
   "outputs": [],
   "source": [
    "df['genres']=df['genres'].str.replace('[\\[,\\],\\']', ' ')\n",
    "df['plot_keywords']=df['plot_keywords'].str.replace('[\\[,\\],\\']', ' ')\n",
    "df['movie_title']=df['movie_title'].apply(str.strip)"
   ]
  },
  {
   "cell_type": "code",
   "execution_count": 168,
   "metadata": {},
   "outputs": [],
   "source": [
    "def create_metadata(x):\n",
    "    return x['plot_keywords']+ ' ' + x['genres'] + ' ' + x['actor_1_name']+ ' ' + x['actor_2_name']+ ' ' + x['actor_3_name']+ ' ' + x['director_name'] \n",
    "            \n",
    "df['metadata']=df.apply(create_metadata,axis=1)"
   ]
  },
  {
   "cell_type": "code",
   "execution_count": 169,
   "metadata": {},
   "outputs": [
    {
     "data": {
      "text/html": [
       "<style  type=\"text/css\" >\n",
       "</style>  \n",
       "<table id=\"T_a820bd12_41b4_11e8_9153_f46d043d872d\" > \n",
       "<thead>    <tr> \n",
       "        <th class=\"blank level0\" ></th> \n",
       "        <th class=\"col_heading level0 col0\" >color</th> \n",
       "        <th class=\"col_heading level0 col1\" >director_name</th> \n",
       "        <th class=\"col_heading level0 col2\" >num_critic_for_reviews</th> \n",
       "        <th class=\"col_heading level0 col3\" >duration</th> \n",
       "        <th class=\"col_heading level0 col4\" >director_facebook_likes</th> \n",
       "        <th class=\"col_heading level0 col5\" >actor_3_facebook_likes</th> \n",
       "        <th class=\"col_heading level0 col6\" >actor_2_name</th> \n",
       "        <th class=\"col_heading level0 col7\" >actor_1_facebook_likes</th> \n",
       "        <th class=\"col_heading level0 col8\" >gross</th> \n",
       "        <th class=\"col_heading level0 col9\" >genres</th> \n",
       "        <th class=\"col_heading level0 col10\" >actor_1_name</th> \n",
       "        <th class=\"col_heading level0 col11\" >movie_title</th> \n",
       "        <th class=\"col_heading level0 col12\" >num_voted_users</th> \n",
       "        <th class=\"col_heading level0 col13\" >cast_total_facebook_likes</th> \n",
       "        <th class=\"col_heading level0 col14\" >actor_3_name</th> \n",
       "        <th class=\"col_heading level0 col15\" >facenumber_in_poster</th> \n",
       "        <th class=\"col_heading level0 col16\" >plot_keywords</th> \n",
       "        <th class=\"col_heading level0 col17\" >movie_imdb_link</th> \n",
       "        <th class=\"col_heading level0 col18\" >num_user_for_reviews</th> \n",
       "        <th class=\"col_heading level0 col19\" >language</th> \n",
       "        <th class=\"col_heading level0 col20\" >country</th> \n",
       "        <th class=\"col_heading level0 col21\" >content_rating</th> \n",
       "        <th class=\"col_heading level0 col22\" >budget</th> \n",
       "        <th class=\"col_heading level0 col23\" >title_year</th> \n",
       "        <th class=\"col_heading level0 col24\" >actor_2_facebook_likes</th> \n",
       "        <th class=\"col_heading level0 col25\" >imdb_score</th> \n",
       "        <th class=\"col_heading level0 col26\" >aspect_ratio</th> \n",
       "        <th class=\"col_heading level0 col27\" >movie_facebook_likes</th> \n",
       "        <th class=\"col_heading level0 col28\" >metadata</th> \n",
       "    </tr></thead> \n",
       "<tbody>    <tr> \n",
       "        <th id=\"T_a820bd12_41b4_11e8_9153_f46d043d872dlevel0_row0\" class=\"row_heading level0 row0\" >0</th> \n",
       "        <td id=\"T_a820bd12_41b4_11e8_9153_f46d043d872drow0_col0\" class=\"data row0 col0\" >Color</td> \n",
       "        <td id=\"T_a820bd12_41b4_11e8_9153_f46d043d872drow0_col1\" class=\"data row0 col1\" >jamescameron</td> \n",
       "        <td id=\"T_a820bd12_41b4_11e8_9153_f46d043d872drow0_col2\" class=\"data row0 col2\" >723</td> \n",
       "        <td id=\"T_a820bd12_41b4_11e8_9153_f46d043d872drow0_col3\" class=\"data row0 col3\" >178</td> \n",
       "        <td id=\"T_a820bd12_41b4_11e8_9153_f46d043d872drow0_col4\" class=\"data row0 col4\" >0</td> \n",
       "        <td id=\"T_a820bd12_41b4_11e8_9153_f46d043d872drow0_col5\" class=\"data row0 col5\" >855</td> \n",
       "        <td id=\"T_a820bd12_41b4_11e8_9153_f46d043d872drow0_col6\" class=\"data row0 col6\" >joeldavidmoore</td> \n",
       "        <td id=\"T_a820bd12_41b4_11e8_9153_f46d043d872drow0_col7\" class=\"data row0 col7\" >1000</td> \n",
       "        <td id=\"T_a820bd12_41b4_11e8_9153_f46d043d872drow0_col8\" class=\"data row0 col8\" >7.60506e+08</td> \n",
       "        <td id=\"T_a820bd12_41b4_11e8_9153_f46d043d872drow0_col9\" class=\"data row0 col9\" >  action    adventure    fantasy    sci-fi  </td> \n",
       "        <td id=\"T_a820bd12_41b4_11e8_9153_f46d043d872drow0_col10\" class=\"data row0 col10\" >cchpounder</td> \n",
       "        <td id=\"T_a820bd12_41b4_11e8_9153_f46d043d872drow0_col11\" class=\"data row0 col11\" >Avatar</td> \n",
       "        <td id=\"T_a820bd12_41b4_11e8_9153_f46d043d872drow0_col12\" class=\"data row0 col12\" >886204</td> \n",
       "        <td id=\"T_a820bd12_41b4_11e8_9153_f46d043d872drow0_col13\" class=\"data row0 col13\" >4834</td> \n",
       "        <td id=\"T_a820bd12_41b4_11e8_9153_f46d043d872drow0_col14\" class=\"data row0 col14\" >wesstudi</td> \n",
       "        <td id=\"T_a820bd12_41b4_11e8_9153_f46d043d872drow0_col15\" class=\"data row0 col15\" >0</td> \n",
       "        <td id=\"T_a820bd12_41b4_11e8_9153_f46d043d872drow0_col16\" class=\"data row0 col16\" >  avatar    future    marine    native    paraplegic  </td> \n",
       "        <td id=\"T_a820bd12_41b4_11e8_9153_f46d043d872drow0_col17\" class=\"data row0 col17\" >http://www.imdb.com/title/tt0499549/?ref_=fn_tt_tt_1</td> \n",
       "        <td id=\"T_a820bd12_41b4_11e8_9153_f46d043d872drow0_col18\" class=\"data row0 col18\" >3054</td> \n",
       "        <td id=\"T_a820bd12_41b4_11e8_9153_f46d043d872drow0_col19\" class=\"data row0 col19\" >English</td> \n",
       "        <td id=\"T_a820bd12_41b4_11e8_9153_f46d043d872drow0_col20\" class=\"data row0 col20\" >USA</td> \n",
       "        <td id=\"T_a820bd12_41b4_11e8_9153_f46d043d872drow0_col21\" class=\"data row0 col21\" >PG-13</td> \n",
       "        <td id=\"T_a820bd12_41b4_11e8_9153_f46d043d872drow0_col22\" class=\"data row0 col22\" >2.37e+08</td> \n",
       "        <td id=\"T_a820bd12_41b4_11e8_9153_f46d043d872drow0_col23\" class=\"data row0 col23\" >2009</td> \n",
       "        <td id=\"T_a820bd12_41b4_11e8_9153_f46d043d872drow0_col24\" class=\"data row0 col24\" >936</td> \n",
       "        <td id=\"T_a820bd12_41b4_11e8_9153_f46d043d872drow0_col25\" class=\"data row0 col25\" >7.9</td> \n",
       "        <td id=\"T_a820bd12_41b4_11e8_9153_f46d043d872drow0_col26\" class=\"data row0 col26\" >1.78</td> \n",
       "        <td id=\"T_a820bd12_41b4_11e8_9153_f46d043d872drow0_col27\" class=\"data row0 col27\" >33000</td> \n",
       "        <td id=\"T_a820bd12_41b4_11e8_9153_f46d043d872drow0_col28\" class=\"data row0 col28\" >  avatar    future    marine    native    paraplegic     action    adventure    fantasy    sci-fi   cchpounder joeldavidmoore wesstudi jamescameron</td> \n",
       "    </tr>    <tr> \n",
       "        <th id=\"T_a820bd12_41b4_11e8_9153_f46d043d872dlevel0_row1\" class=\"row_heading level0 row1\" >1</th> \n",
       "        <td id=\"T_a820bd12_41b4_11e8_9153_f46d043d872drow1_col0\" class=\"data row1 col0\" >Color</td> \n",
       "        <td id=\"T_a820bd12_41b4_11e8_9153_f46d043d872drow1_col1\" class=\"data row1 col1\" >goreverbinski</td> \n",
       "        <td id=\"T_a820bd12_41b4_11e8_9153_f46d043d872drow1_col2\" class=\"data row1 col2\" >302</td> \n",
       "        <td id=\"T_a820bd12_41b4_11e8_9153_f46d043d872drow1_col3\" class=\"data row1 col3\" >169</td> \n",
       "        <td id=\"T_a820bd12_41b4_11e8_9153_f46d043d872drow1_col4\" class=\"data row1 col4\" >563</td> \n",
       "        <td id=\"T_a820bd12_41b4_11e8_9153_f46d043d872drow1_col5\" class=\"data row1 col5\" >1000</td> \n",
       "        <td id=\"T_a820bd12_41b4_11e8_9153_f46d043d872drow1_col6\" class=\"data row1 col6\" >orlandobloom</td> \n",
       "        <td id=\"T_a820bd12_41b4_11e8_9153_f46d043d872drow1_col7\" class=\"data row1 col7\" >40000</td> \n",
       "        <td id=\"T_a820bd12_41b4_11e8_9153_f46d043d872drow1_col8\" class=\"data row1 col8\" >3.09404e+08</td> \n",
       "        <td id=\"T_a820bd12_41b4_11e8_9153_f46d043d872drow1_col9\" class=\"data row1 col9\" >  action    adventure    fantasy  </td> \n",
       "        <td id=\"T_a820bd12_41b4_11e8_9153_f46d043d872drow1_col10\" class=\"data row1 col10\" >johnnydepp</td> \n",
       "        <td id=\"T_a820bd12_41b4_11e8_9153_f46d043d872drow1_col11\" class=\"data row1 col11\" >Pirates of the Caribbean: At World's End</td> \n",
       "        <td id=\"T_a820bd12_41b4_11e8_9153_f46d043d872drow1_col12\" class=\"data row1 col12\" >471220</td> \n",
       "        <td id=\"T_a820bd12_41b4_11e8_9153_f46d043d872drow1_col13\" class=\"data row1 col13\" >48350</td> \n",
       "        <td id=\"T_a820bd12_41b4_11e8_9153_f46d043d872drow1_col14\" class=\"data row1 col14\" >jackdavenport</td> \n",
       "        <td id=\"T_a820bd12_41b4_11e8_9153_f46d043d872drow1_col15\" class=\"data row1 col15\" >0</td> \n",
       "        <td id=\"T_a820bd12_41b4_11e8_9153_f46d043d872drow1_col16\" class=\"data row1 col16\" >  goddess    marriage ceremony    marriage proposal    pirate    singapore  </td> \n",
       "        <td id=\"T_a820bd12_41b4_11e8_9153_f46d043d872drow1_col17\" class=\"data row1 col17\" >http://www.imdb.com/title/tt0449088/?ref_=fn_tt_tt_1</td> \n",
       "        <td id=\"T_a820bd12_41b4_11e8_9153_f46d043d872drow1_col18\" class=\"data row1 col18\" >1238</td> \n",
       "        <td id=\"T_a820bd12_41b4_11e8_9153_f46d043d872drow1_col19\" class=\"data row1 col19\" >English</td> \n",
       "        <td id=\"T_a820bd12_41b4_11e8_9153_f46d043d872drow1_col20\" class=\"data row1 col20\" >USA</td> \n",
       "        <td id=\"T_a820bd12_41b4_11e8_9153_f46d043d872drow1_col21\" class=\"data row1 col21\" >PG-13</td> \n",
       "        <td id=\"T_a820bd12_41b4_11e8_9153_f46d043d872drow1_col22\" class=\"data row1 col22\" >3e+08</td> \n",
       "        <td id=\"T_a820bd12_41b4_11e8_9153_f46d043d872drow1_col23\" class=\"data row1 col23\" >2007</td> \n",
       "        <td id=\"T_a820bd12_41b4_11e8_9153_f46d043d872drow1_col24\" class=\"data row1 col24\" >5000</td> \n",
       "        <td id=\"T_a820bd12_41b4_11e8_9153_f46d043d872drow1_col25\" class=\"data row1 col25\" >7.1</td> \n",
       "        <td id=\"T_a820bd12_41b4_11e8_9153_f46d043d872drow1_col26\" class=\"data row1 col26\" >2.35</td> \n",
       "        <td id=\"T_a820bd12_41b4_11e8_9153_f46d043d872drow1_col27\" class=\"data row1 col27\" >0</td> \n",
       "        <td id=\"T_a820bd12_41b4_11e8_9153_f46d043d872drow1_col28\" class=\"data row1 col28\" >  goddess    marriage ceremony    marriage proposal    pirate    singapore     action    adventure    fantasy   johnnydepp orlandobloom jackdavenport goreverbinski</td> \n",
       "    </tr>    <tr> \n",
       "        <th id=\"T_a820bd12_41b4_11e8_9153_f46d043d872dlevel0_row2\" class=\"row_heading level0 row2\" >2</th> \n",
       "        <td id=\"T_a820bd12_41b4_11e8_9153_f46d043d872drow2_col0\" class=\"data row2 col0\" >Color</td> \n",
       "        <td id=\"T_a820bd12_41b4_11e8_9153_f46d043d872drow2_col1\" class=\"data row2 col1\" >sammendes</td> \n",
       "        <td id=\"T_a820bd12_41b4_11e8_9153_f46d043d872drow2_col2\" class=\"data row2 col2\" >602</td> \n",
       "        <td id=\"T_a820bd12_41b4_11e8_9153_f46d043d872drow2_col3\" class=\"data row2 col3\" >148</td> \n",
       "        <td id=\"T_a820bd12_41b4_11e8_9153_f46d043d872drow2_col4\" class=\"data row2 col4\" >0</td> \n",
       "        <td id=\"T_a820bd12_41b4_11e8_9153_f46d043d872drow2_col5\" class=\"data row2 col5\" >161</td> \n",
       "        <td id=\"T_a820bd12_41b4_11e8_9153_f46d043d872drow2_col6\" class=\"data row2 col6\" >rorykinnear</td> \n",
       "        <td id=\"T_a820bd12_41b4_11e8_9153_f46d043d872drow2_col7\" class=\"data row2 col7\" >11000</td> \n",
       "        <td id=\"T_a820bd12_41b4_11e8_9153_f46d043d872drow2_col8\" class=\"data row2 col8\" >2.00074e+08</td> \n",
       "        <td id=\"T_a820bd12_41b4_11e8_9153_f46d043d872drow2_col9\" class=\"data row2 col9\" >  action    adventure    thriller  </td> \n",
       "        <td id=\"T_a820bd12_41b4_11e8_9153_f46d043d872drow2_col10\" class=\"data row2 col10\" >christophwaltz</td> \n",
       "        <td id=\"T_a820bd12_41b4_11e8_9153_f46d043d872drow2_col11\" class=\"data row2 col11\" >Spectre</td> \n",
       "        <td id=\"T_a820bd12_41b4_11e8_9153_f46d043d872drow2_col12\" class=\"data row2 col12\" >275868</td> \n",
       "        <td id=\"T_a820bd12_41b4_11e8_9153_f46d043d872drow2_col13\" class=\"data row2 col13\" >11700</td> \n",
       "        <td id=\"T_a820bd12_41b4_11e8_9153_f46d043d872drow2_col14\" class=\"data row2 col14\" >stephaniesigman</td> \n",
       "        <td id=\"T_a820bd12_41b4_11e8_9153_f46d043d872drow2_col15\" class=\"data row2 col15\" >1</td> \n",
       "        <td id=\"T_a820bd12_41b4_11e8_9153_f46d043d872drow2_col16\" class=\"data row2 col16\" >  bomb    espionage    sequel    spy    terrorist  </td> \n",
       "        <td id=\"T_a820bd12_41b4_11e8_9153_f46d043d872drow2_col17\" class=\"data row2 col17\" >http://www.imdb.com/title/tt2379713/?ref_=fn_tt_tt_1</td> \n",
       "        <td id=\"T_a820bd12_41b4_11e8_9153_f46d043d872drow2_col18\" class=\"data row2 col18\" >994</td> \n",
       "        <td id=\"T_a820bd12_41b4_11e8_9153_f46d043d872drow2_col19\" class=\"data row2 col19\" >English</td> \n",
       "        <td id=\"T_a820bd12_41b4_11e8_9153_f46d043d872drow2_col20\" class=\"data row2 col20\" >UK</td> \n",
       "        <td id=\"T_a820bd12_41b4_11e8_9153_f46d043d872drow2_col21\" class=\"data row2 col21\" >PG-13</td> \n",
       "        <td id=\"T_a820bd12_41b4_11e8_9153_f46d043d872drow2_col22\" class=\"data row2 col22\" >2.45e+08</td> \n",
       "        <td id=\"T_a820bd12_41b4_11e8_9153_f46d043d872drow2_col23\" class=\"data row2 col23\" >2015</td> \n",
       "        <td id=\"T_a820bd12_41b4_11e8_9153_f46d043d872drow2_col24\" class=\"data row2 col24\" >393</td> \n",
       "        <td id=\"T_a820bd12_41b4_11e8_9153_f46d043d872drow2_col25\" class=\"data row2 col25\" >6.8</td> \n",
       "        <td id=\"T_a820bd12_41b4_11e8_9153_f46d043d872drow2_col26\" class=\"data row2 col26\" >2.35</td> \n",
       "        <td id=\"T_a820bd12_41b4_11e8_9153_f46d043d872drow2_col27\" class=\"data row2 col27\" >85000</td> \n",
       "        <td id=\"T_a820bd12_41b4_11e8_9153_f46d043d872drow2_col28\" class=\"data row2 col28\" >  bomb    espionage    sequel    spy    terrorist     action    adventure    thriller   christophwaltz rorykinnear stephaniesigman sammendes</td> \n",
       "    </tr>    <tr> \n",
       "        <th id=\"T_a820bd12_41b4_11e8_9153_f46d043d872dlevel0_row3\" class=\"row_heading level0 row3\" >3</th> \n",
       "        <td id=\"T_a820bd12_41b4_11e8_9153_f46d043d872drow3_col0\" class=\"data row3 col0\" >Color</td> \n",
       "        <td id=\"T_a820bd12_41b4_11e8_9153_f46d043d872drow3_col1\" class=\"data row3 col1\" >christophernolan</td> \n",
       "        <td id=\"T_a820bd12_41b4_11e8_9153_f46d043d872drow3_col2\" class=\"data row3 col2\" >813</td> \n",
       "        <td id=\"T_a820bd12_41b4_11e8_9153_f46d043d872drow3_col3\" class=\"data row3 col3\" >164</td> \n",
       "        <td id=\"T_a820bd12_41b4_11e8_9153_f46d043d872drow3_col4\" class=\"data row3 col4\" >22000</td> \n",
       "        <td id=\"T_a820bd12_41b4_11e8_9153_f46d043d872drow3_col5\" class=\"data row3 col5\" >23000</td> \n",
       "        <td id=\"T_a820bd12_41b4_11e8_9153_f46d043d872drow3_col6\" class=\"data row3 col6\" >christianbale</td> \n",
       "        <td id=\"T_a820bd12_41b4_11e8_9153_f46d043d872drow3_col7\" class=\"data row3 col7\" >27000</td> \n",
       "        <td id=\"T_a820bd12_41b4_11e8_9153_f46d043d872drow3_col8\" class=\"data row3 col8\" >4.48131e+08</td> \n",
       "        <td id=\"T_a820bd12_41b4_11e8_9153_f46d043d872drow3_col9\" class=\"data row3 col9\" >  action    thriller  </td> \n",
       "        <td id=\"T_a820bd12_41b4_11e8_9153_f46d043d872drow3_col10\" class=\"data row3 col10\" >tomhardy</td> \n",
       "        <td id=\"T_a820bd12_41b4_11e8_9153_f46d043d872drow3_col11\" class=\"data row3 col11\" >The Dark Knight Rises</td> \n",
       "        <td id=\"T_a820bd12_41b4_11e8_9153_f46d043d872drow3_col12\" class=\"data row3 col12\" >1144337</td> \n",
       "        <td id=\"T_a820bd12_41b4_11e8_9153_f46d043d872drow3_col13\" class=\"data row3 col13\" >106759</td> \n",
       "        <td id=\"T_a820bd12_41b4_11e8_9153_f46d043d872drow3_col14\" class=\"data row3 col14\" >josephgordon-levitt</td> \n",
       "        <td id=\"T_a820bd12_41b4_11e8_9153_f46d043d872drow3_col15\" class=\"data row3 col15\" >0</td> \n",
       "        <td id=\"T_a820bd12_41b4_11e8_9153_f46d043d872drow3_col16\" class=\"data row3 col16\" >  deception    imprisonment    lawlessness    police officer    terrorist plot  </td> \n",
       "        <td id=\"T_a820bd12_41b4_11e8_9153_f46d043d872drow3_col17\" class=\"data row3 col17\" >http://www.imdb.com/title/tt1345836/?ref_=fn_tt_tt_1</td> \n",
       "        <td id=\"T_a820bd12_41b4_11e8_9153_f46d043d872drow3_col18\" class=\"data row3 col18\" >2701</td> \n",
       "        <td id=\"T_a820bd12_41b4_11e8_9153_f46d043d872drow3_col19\" class=\"data row3 col19\" >English</td> \n",
       "        <td id=\"T_a820bd12_41b4_11e8_9153_f46d043d872drow3_col20\" class=\"data row3 col20\" >USA</td> \n",
       "        <td id=\"T_a820bd12_41b4_11e8_9153_f46d043d872drow3_col21\" class=\"data row3 col21\" >PG-13</td> \n",
       "        <td id=\"T_a820bd12_41b4_11e8_9153_f46d043d872drow3_col22\" class=\"data row3 col22\" >2.5e+08</td> \n",
       "        <td id=\"T_a820bd12_41b4_11e8_9153_f46d043d872drow3_col23\" class=\"data row3 col23\" >2012</td> \n",
       "        <td id=\"T_a820bd12_41b4_11e8_9153_f46d043d872drow3_col24\" class=\"data row3 col24\" >23000</td> \n",
       "        <td id=\"T_a820bd12_41b4_11e8_9153_f46d043d872drow3_col25\" class=\"data row3 col25\" >8.5</td> \n",
       "        <td id=\"T_a820bd12_41b4_11e8_9153_f46d043d872drow3_col26\" class=\"data row3 col26\" >2.35</td> \n",
       "        <td id=\"T_a820bd12_41b4_11e8_9153_f46d043d872drow3_col27\" class=\"data row3 col27\" >164000</td> \n",
       "        <td id=\"T_a820bd12_41b4_11e8_9153_f46d043d872drow3_col28\" class=\"data row3 col28\" >  deception    imprisonment    lawlessness    police officer    terrorist plot     action    thriller   tomhardy christianbale josephgordon-levitt christophernolan</td> \n",
       "    </tr>    <tr> \n",
       "        <th id=\"T_a820bd12_41b4_11e8_9153_f46d043d872dlevel0_row4\" class=\"row_heading level0 row4\" >4</th> \n",
       "        <td id=\"T_a820bd12_41b4_11e8_9153_f46d043d872drow4_col0\" class=\"data row4 col0\" ></td> \n",
       "        <td id=\"T_a820bd12_41b4_11e8_9153_f46d043d872drow4_col1\" class=\"data row4 col1\" >dougwalker</td> \n",
       "        <td id=\"T_a820bd12_41b4_11e8_9153_f46d043d872drow4_col2\" class=\"data row4 col2\" ></td> \n",
       "        <td id=\"T_a820bd12_41b4_11e8_9153_f46d043d872drow4_col3\" class=\"data row4 col3\" ></td> \n",
       "        <td id=\"T_a820bd12_41b4_11e8_9153_f46d043d872drow4_col4\" class=\"data row4 col4\" >131</td> \n",
       "        <td id=\"T_a820bd12_41b4_11e8_9153_f46d043d872drow4_col5\" class=\"data row4 col5\" ></td> \n",
       "        <td id=\"T_a820bd12_41b4_11e8_9153_f46d043d872drow4_col6\" class=\"data row4 col6\" >robwalker</td> \n",
       "        <td id=\"T_a820bd12_41b4_11e8_9153_f46d043d872drow4_col7\" class=\"data row4 col7\" >131</td> \n",
       "        <td id=\"T_a820bd12_41b4_11e8_9153_f46d043d872drow4_col8\" class=\"data row4 col8\" ></td> \n",
       "        <td id=\"T_a820bd12_41b4_11e8_9153_f46d043d872drow4_col9\" class=\"data row4 col9\" >  documentary  </td> \n",
       "        <td id=\"T_a820bd12_41b4_11e8_9153_f46d043d872drow4_col10\" class=\"data row4 col10\" >dougwalker</td> \n",
       "        <td id=\"T_a820bd12_41b4_11e8_9153_f46d043d872drow4_col11\" class=\"data row4 col11\" >Star Wars: Episode VII - The Force Awakens</td> \n",
       "        <td id=\"T_a820bd12_41b4_11e8_9153_f46d043d872drow4_col12\" class=\"data row4 col12\" >8</td> \n",
       "        <td id=\"T_a820bd12_41b4_11e8_9153_f46d043d872drow4_col13\" class=\"data row4 col13\" >143</td> \n",
       "        <td id=\"T_a820bd12_41b4_11e8_9153_f46d043d872drow4_col14\" class=\"data row4 col14\" ></td> \n",
       "        <td id=\"T_a820bd12_41b4_11e8_9153_f46d043d872drow4_col15\" class=\"data row4 col15\" >0</td> \n",
       "        <td id=\"T_a820bd12_41b4_11e8_9153_f46d043d872drow4_col16\" class=\"data row4 col16\" ></td> \n",
       "        <td id=\"T_a820bd12_41b4_11e8_9153_f46d043d872drow4_col17\" class=\"data row4 col17\" >http://www.imdb.com/title/tt5289954/?ref_=fn_tt_tt_1</td> \n",
       "        <td id=\"T_a820bd12_41b4_11e8_9153_f46d043d872drow4_col18\" class=\"data row4 col18\" ></td> \n",
       "        <td id=\"T_a820bd12_41b4_11e8_9153_f46d043d872drow4_col19\" class=\"data row4 col19\" ></td> \n",
       "        <td id=\"T_a820bd12_41b4_11e8_9153_f46d043d872drow4_col20\" class=\"data row4 col20\" ></td> \n",
       "        <td id=\"T_a820bd12_41b4_11e8_9153_f46d043d872drow4_col21\" class=\"data row4 col21\" ></td> \n",
       "        <td id=\"T_a820bd12_41b4_11e8_9153_f46d043d872drow4_col22\" class=\"data row4 col22\" ></td> \n",
       "        <td id=\"T_a820bd12_41b4_11e8_9153_f46d043d872drow4_col23\" class=\"data row4 col23\" ></td> \n",
       "        <td id=\"T_a820bd12_41b4_11e8_9153_f46d043d872drow4_col24\" class=\"data row4 col24\" >12</td> \n",
       "        <td id=\"T_a820bd12_41b4_11e8_9153_f46d043d872drow4_col25\" class=\"data row4 col25\" >7.1</td> \n",
       "        <td id=\"T_a820bd12_41b4_11e8_9153_f46d043d872drow4_col26\" class=\"data row4 col26\" ></td> \n",
       "        <td id=\"T_a820bd12_41b4_11e8_9153_f46d043d872drow4_col27\" class=\"data row4 col27\" >0</td> \n",
       "        <td id=\"T_a820bd12_41b4_11e8_9153_f46d043d872drow4_col28\" class=\"data row4 col28\" >   documentary   dougwalker robwalker  dougwalker</td> \n",
       "    </tr></tbody> \n",
       "</table> "
      ],
      "text/plain": [
       "<pandas.io.formats.style.Styler at 0x1dd322abb70>"
      ]
     },
     "execution_count": 169,
     "metadata": {},
     "output_type": "execute_result"
    }
   ],
   "source": [
    "df.head(5).style"
   ]
  },
  {
   "cell_type": "code",
   "execution_count": 170,
   "metadata": {},
   "outputs": [],
   "source": [
    "count = CountVectorizer()\n",
    "count_matrix = count.fit_transform(df['metadata'])\n",
    "cosine_sim = cosine_similarity(count_matrix, count_matrix)"
   ]
  },
  {
   "cell_type": "code",
   "execution_count": 171,
   "metadata": {},
   "outputs": [],
   "source": [
    "df = df.reset_index()\n",
    "indices = pd.Series(df.index, index=df['movie_title'])"
   ]
  },
  {
   "cell_type": "code",
   "execution_count": 174,
   "metadata": {},
   "outputs": [
    {
     "name": "stdout",
     "output_type": "stream",
     "text": [
      "Index(['Avatar', 'Pirates of the Caribbean: At World's End', 'Spectre',\n",
      "       'The Dark Knight Rises', 'Star Wars: Episode VII - The Force Awakens',\n",
      "       'John Carter', 'Spider-Man 3', 'Tangled', 'Avengers: Age of Ultron',\n",
      "       'Harry Potter and the Half-Blood Prince',\n",
      "       ...\n",
      "       'Primer', 'Cavite', 'El Mariachi', 'The Mongol King', 'Newlyweds',\n",
      "       'Signed Sealed Delivered', 'The Following', 'A Plague So Pleasant',\n",
      "       'Shanghai Calling', 'My Date with Drew'],\n",
      "      dtype='object', name='movie_title', length=5043)\n"
     ]
    }
   ],
   "source": [
    "title='John Carter'\n",
    "print(indices.index)"
   ]
  },
  {
   "cell_type": "code",
   "execution_count": 175,
   "metadata": {},
   "outputs": [
    {
     "name": "stdout",
     "output_type": "stream",
     "text": [
      "5\n"
     ]
    }
   ],
   "source": [
    "print(indices[title])"
   ]
  },
  {
   "cell_type": "code",
   "execution_count": 80,
   "metadata": {},
   "outputs": [],
   "source": [
    "def get_recommendations(title):\n",
    "    \n",
    "    index=indices[title]\n",
    "    sim_scores=list(enumerate(cosine_sim[index]))\n",
    "    sim_scores = sorted(sim_scores, key=lambda x: x[1], reverse=True)\n",
    "    sim_scores = sim_scores[1:6]\n",
    "    sim_scores = sorted(sim_scores, key=lambda x: df['title_year'].iloc(x[0]), reverse=True)\n",
    "    movie_indices = [i[0] for i in sim_scores]\n",
    "    return metadata['title'].iloc[movie_indices]"
   ]
  },
  {
   "cell_type": "code",
   "execution_count": null,
   "metadata": {},
   "outputs": [],
   "source": []
  },
  {
   "cell_type": "code",
   "execution_count": null,
   "metadata": {},
   "outputs": [],
   "source": []
  },
  {
   "cell_type": "code",
   "execution_count": 94,
   "metadata": {},
   "outputs": [
    {
     "ename": "KeyError",
     "evalue": "'Avatar'",
     "output_type": "error",
     "traceback": [
      "\u001b[1;31m---------------------------------------------------------------------------\u001b[0m",
      "\u001b[1;31mTypeError\u001b[0m                                 Traceback (most recent call last)",
      "\u001b[1;32m~\\Anaconda3\\lib\\site-packages\\pandas\\core\\indexes\\base.py\u001b[0m in \u001b[0;36mget_value\u001b[1;34m(self, series, key)\u001b[0m\n\u001b[0;32m   2565\u001b[0m             \u001b[1;32mtry\u001b[0m\u001b[1;33m:\u001b[0m\u001b[1;33m\u001b[0m\u001b[0m\n\u001b[1;32m-> 2566\u001b[1;33m                 \u001b[1;32mreturn\u001b[0m \u001b[0mlibts\u001b[0m\u001b[1;33m.\u001b[0m\u001b[0mget_value_box\u001b[0m\u001b[1;33m(\u001b[0m\u001b[0ms\u001b[0m\u001b[1;33m,\u001b[0m \u001b[0mkey\u001b[0m\u001b[1;33m)\u001b[0m\u001b[1;33m\u001b[0m\u001b[0m\n\u001b[0m\u001b[0;32m   2567\u001b[0m             \u001b[1;32mexcept\u001b[0m \u001b[0mIndexError\u001b[0m\u001b[1;33m:\u001b[0m\u001b[1;33m\u001b[0m\u001b[0m\n",
      "\u001b[1;32mpandas/_libs/tslib.pyx\u001b[0m in \u001b[0;36mpandas._libs.tslib.get_value_box\u001b[1;34m()\u001b[0m\n",
      "\u001b[1;32mpandas/_libs/tslib.pyx\u001b[0m in \u001b[0;36mpandas._libs.tslib.get_value_box\u001b[1;34m()\u001b[0m\n",
      "\u001b[1;31mTypeError\u001b[0m: 'str' object cannot be interpreted as an integer",
      "\nDuring handling of the above exception, another exception occurred:\n",
      "\u001b[1;31mKeyError\u001b[0m                                  Traceback (most recent call last)",
      "\u001b[1;32m<ipython-input-94-8feb332af809>\u001b[0m in \u001b[0;36m<module>\u001b[1;34m()\u001b[0m\n\u001b[1;32m----> 1\u001b[1;33m \u001b[0mindices\u001b[0m\u001b[1;33m[\u001b[0m\u001b[1;34m'Avatar'\u001b[0m\u001b[1;33m]\u001b[0m\u001b[1;33m\u001b[0m\u001b[0m\n\u001b[0m",
      "\u001b[1;32m~\\Anaconda3\\lib\\site-packages\\pandas\\core\\series.py\u001b[0m in \u001b[0;36m__getitem__\u001b[1;34m(self, key)\u001b[0m\n\u001b[0;32m    621\u001b[0m         \u001b[0mkey\u001b[0m \u001b[1;33m=\u001b[0m \u001b[0mcom\u001b[0m\u001b[1;33m.\u001b[0m\u001b[0m_apply_if_callable\u001b[0m\u001b[1;33m(\u001b[0m\u001b[0mkey\u001b[0m\u001b[1;33m,\u001b[0m \u001b[0mself\u001b[0m\u001b[1;33m)\u001b[0m\u001b[1;33m\u001b[0m\u001b[0m\n\u001b[0;32m    622\u001b[0m         \u001b[1;32mtry\u001b[0m\u001b[1;33m:\u001b[0m\u001b[1;33m\u001b[0m\u001b[0m\n\u001b[1;32m--> 623\u001b[1;33m             \u001b[0mresult\u001b[0m \u001b[1;33m=\u001b[0m \u001b[0mself\u001b[0m\u001b[1;33m.\u001b[0m\u001b[0mindex\u001b[0m\u001b[1;33m.\u001b[0m\u001b[0mget_value\u001b[0m\u001b[1;33m(\u001b[0m\u001b[0mself\u001b[0m\u001b[1;33m,\u001b[0m \u001b[0mkey\u001b[0m\u001b[1;33m)\u001b[0m\u001b[1;33m\u001b[0m\u001b[0m\n\u001b[0m\u001b[0;32m    624\u001b[0m \u001b[1;33m\u001b[0m\u001b[0m\n\u001b[0;32m    625\u001b[0m             \u001b[1;32mif\u001b[0m \u001b[1;32mnot\u001b[0m \u001b[0mis_scalar\u001b[0m\u001b[1;33m(\u001b[0m\u001b[0mresult\u001b[0m\u001b[1;33m)\u001b[0m\u001b[1;33m:\u001b[0m\u001b[1;33m\u001b[0m\u001b[0m\n",
      "\u001b[1;32m~\\Anaconda3\\lib\\site-packages\\pandas\\core\\indexes\\base.py\u001b[0m in \u001b[0;36mget_value\u001b[1;34m(self, series, key)\u001b[0m\n\u001b[0;32m   2572\u001b[0m                     \u001b[1;32mraise\u001b[0m \u001b[0mInvalidIndexError\u001b[0m\u001b[1;33m(\u001b[0m\u001b[0mkey\u001b[0m\u001b[1;33m)\u001b[0m\u001b[1;33m\u001b[0m\u001b[0m\n\u001b[0;32m   2573\u001b[0m                 \u001b[1;32melse\u001b[0m\u001b[1;33m:\u001b[0m\u001b[1;33m\u001b[0m\u001b[0m\n\u001b[1;32m-> 2574\u001b[1;33m                     \u001b[1;32mraise\u001b[0m \u001b[0me1\u001b[0m\u001b[1;33m\u001b[0m\u001b[0m\n\u001b[0m\u001b[0;32m   2575\u001b[0m             \u001b[1;32mexcept\u001b[0m \u001b[0mException\u001b[0m\u001b[1;33m:\u001b[0m  \u001b[1;31m# pragma: no cover\u001b[0m\u001b[1;33m\u001b[0m\u001b[0m\n\u001b[0;32m   2576\u001b[0m                 \u001b[1;32mraise\u001b[0m \u001b[0me1\u001b[0m\u001b[1;33m\u001b[0m\u001b[0m\n",
      "\u001b[1;32m~\\Anaconda3\\lib\\site-packages\\pandas\\core\\indexes\\base.py\u001b[0m in \u001b[0;36mget_value\u001b[1;34m(self, series, key)\u001b[0m\n\u001b[0;32m   2558\u001b[0m         \u001b[1;32mtry\u001b[0m\u001b[1;33m:\u001b[0m\u001b[1;33m\u001b[0m\u001b[0m\n\u001b[0;32m   2559\u001b[0m             return self._engine.get_value(s, k,\n\u001b[1;32m-> 2560\u001b[1;33m                                           tz=getattr(series.dtype, 'tz', None))\n\u001b[0m\u001b[0;32m   2561\u001b[0m         \u001b[1;32mexcept\u001b[0m \u001b[0mKeyError\u001b[0m \u001b[1;32mas\u001b[0m \u001b[0me1\u001b[0m\u001b[1;33m:\u001b[0m\u001b[1;33m\u001b[0m\u001b[0m\n\u001b[0;32m   2562\u001b[0m             \u001b[1;32mif\u001b[0m \u001b[0mlen\u001b[0m\u001b[1;33m(\u001b[0m\u001b[0mself\u001b[0m\u001b[1;33m)\u001b[0m \u001b[1;33m>\u001b[0m \u001b[1;36m0\u001b[0m \u001b[1;32mand\u001b[0m \u001b[0mself\u001b[0m\u001b[1;33m.\u001b[0m\u001b[0minferred_type\u001b[0m \u001b[1;32min\u001b[0m \u001b[1;33m[\u001b[0m\u001b[1;34m'integer'\u001b[0m\u001b[1;33m,\u001b[0m \u001b[1;34m'boolean'\u001b[0m\u001b[1;33m]\u001b[0m\u001b[1;33m:\u001b[0m\u001b[1;33m\u001b[0m\u001b[0m\n",
      "\u001b[1;32mpandas/_libs/index.pyx\u001b[0m in \u001b[0;36mpandas._libs.index.IndexEngine.get_value\u001b[1;34m()\u001b[0m\n",
      "\u001b[1;32mpandas/_libs/index.pyx\u001b[0m in \u001b[0;36mpandas._libs.index.IndexEngine.get_value\u001b[1;34m()\u001b[0m\n",
      "\u001b[1;32mpandas/_libs/index.pyx\u001b[0m in \u001b[0;36mpandas._libs.index.IndexEngine.get_loc\u001b[1;34m()\u001b[0m\n",
      "\u001b[1;32mpandas/_libs/index.pyx\u001b[0m in \u001b[0;36mpandas._libs.index.IndexEngine._get_loc_duplicates\u001b[1;34m()\u001b[0m\n",
      "\u001b[1;32mpandas/_libs/index.pyx\u001b[0m in \u001b[0;36mpandas._libs.index.IndexEngine._maybe_get_bool_indexer\u001b[1;34m()\u001b[0m\n",
      "\u001b[1;31mKeyError\u001b[0m: 'Avatar'"
     ]
    }
   ],
   "source": [
    "indices['Avatar']"
   ]
  },
  {
   "cell_type": "code",
   "execution_count": null,
   "metadata": {},
   "outputs": [],
   "source": []
  }
 ],
 "metadata": {
  "kernelspec": {
   "display_name": "Python 3",
   "language": "python",
   "name": "python3"
  },
  "language_info": {
   "codemirror_mode": {
    "name": "ipython",
    "version": 3
   },
   "file_extension": ".py",
   "mimetype": "text/x-python",
   "name": "python",
   "nbconvert_exporter": "python",
   "pygments_lexer": "ipython3",
   "version": "3.6.4"
  }
 },
 "nbformat": 4,
 "nbformat_minor": 2
}
