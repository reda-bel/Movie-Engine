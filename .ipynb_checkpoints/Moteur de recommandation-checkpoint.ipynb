{
 "cells": [
  {
   "cell_type": "code",
   "execution_count": 264,
   "metadata": {},
   "outputs": [],
   "source": [
    "# coding: utf-8\n",
    "import pandas as pd\n",
    "import numpy as np\n",
    "import math\n",
    "from sklearn.feature_extraction.text import CountVectorizer\n",
    "from sklearn.metrics.pairwise import cosine_similarity"
   ]
  },
  {
   "cell_type": "code",
   "execution_count": 265,
   "metadata": {},
   "outputs": [],
   "source": [
    "# read the csv file\n",
    "df = pd.read_csv(\"movie_db.csv\", sep='\\t',low_memory=False)"
   ]
  },
  {
   "cell_type": "code",
   "execution_count": 267,
   "metadata": {},
   "outputs": [],
   "source": [
    "df.columns\n",
    "df.drop_duplicates('movie_title',keep='first',inplace=True)\n",
    "df['movie_title']=df['movie_title'].apply(lambda x: x.strip())\n",
    "df=df.fillna('')"
   ]
  },
  {
   "cell_type": "code",
   "execution_count": 268,
   "metadata": {},
   "outputs": [
    {
     "data": {
      "text/html": [
       "<style  type=\"text/css\" >\n",
       "</style>  \n",
       "<table id=\"T_c4ac6074_456f_11e8_b68f_f46d043d872d\" > \n",
       "<thead>    <tr> \n",
       "        <th class=\"blank level0\" ></th> \n",
       "        <th class=\"col_heading level0 col0\" >color</th> \n",
       "        <th class=\"col_heading level0 col1\" >director_name</th> \n",
       "        <th class=\"col_heading level0 col2\" >num_critic_for_reviews</th> \n",
       "        <th class=\"col_heading level0 col3\" >duration</th> \n",
       "        <th class=\"col_heading level0 col4\" >director_facebook_likes</th> \n",
       "        <th class=\"col_heading level0 col5\" >actor_3_facebook_likes</th> \n",
       "        <th class=\"col_heading level0 col6\" >actor_2_name</th> \n",
       "        <th class=\"col_heading level0 col7\" >actor_1_facebook_likes</th> \n",
       "        <th class=\"col_heading level0 col8\" >gross</th> \n",
       "        <th class=\"col_heading level0 col9\" >genres</th> \n",
       "        <th class=\"col_heading level0 col10\" >actor_1_name</th> \n",
       "        <th class=\"col_heading level0 col11\" >movie_title</th> \n",
       "        <th class=\"col_heading level0 col12\" >num_voted_users</th> \n",
       "        <th class=\"col_heading level0 col13\" >cast_total_facebook_likes</th> \n",
       "        <th class=\"col_heading level0 col14\" >actor_3_name</th> \n",
       "        <th class=\"col_heading level0 col15\" >facenumber_in_poster</th> \n",
       "        <th class=\"col_heading level0 col16\" >plot_keywords</th> \n",
       "        <th class=\"col_heading level0 col17\" >movie_imdb_link</th> \n",
       "        <th class=\"col_heading level0 col18\" >num_user_for_reviews</th> \n",
       "        <th class=\"col_heading level0 col19\" >language</th> \n",
       "        <th class=\"col_heading level0 col20\" >country</th> \n",
       "        <th class=\"col_heading level0 col21\" >content_rating</th> \n",
       "        <th class=\"col_heading level0 col22\" >budget</th> \n",
       "        <th class=\"col_heading level0 col23\" >title_year</th> \n",
       "        <th class=\"col_heading level0 col24\" >actor_2_facebook_likes</th> \n",
       "        <th class=\"col_heading level0 col25\" >imdb_score</th> \n",
       "        <th class=\"col_heading level0 col26\" >aspect_ratio</th> \n",
       "        <th class=\"col_heading level0 col27\" >movie_facebook_likes</th> \n",
       "    </tr></thead> \n",
       "<tbody>    <tr> \n",
       "        <th id=\"T_c4ac6074_456f_11e8_b68f_f46d043d872dlevel0_row0\" class=\"row_heading level0 row0\" >0</th> \n",
       "        <td id=\"T_c4ac6074_456f_11e8_b68f_f46d043d872drow0_col0\" class=\"data row0 col0\" >Color</td> \n",
       "        <td id=\"T_c4ac6074_456f_11e8_b68f_f46d043d872drow0_col1\" class=\"data row0 col1\" >jamescameron</td> \n",
       "        <td id=\"T_c4ac6074_456f_11e8_b68f_f46d043d872drow0_col2\" class=\"data row0 col2\" >723</td> \n",
       "        <td id=\"T_c4ac6074_456f_11e8_b68f_f46d043d872drow0_col3\" class=\"data row0 col3\" >178</td> \n",
       "        <td id=\"T_c4ac6074_456f_11e8_b68f_f46d043d872drow0_col4\" class=\"data row0 col4\" >0</td> \n",
       "        <td id=\"T_c4ac6074_456f_11e8_b68f_f46d043d872drow0_col5\" class=\"data row0 col5\" >855</td> \n",
       "        <td id=\"T_c4ac6074_456f_11e8_b68f_f46d043d872drow0_col6\" class=\"data row0 col6\" >joeldavidmoore</td> \n",
       "        <td id=\"T_c4ac6074_456f_11e8_b68f_f46d043d872drow0_col7\" class=\"data row0 col7\" >1000</td> \n",
       "        <td id=\"T_c4ac6074_456f_11e8_b68f_f46d043d872drow0_col8\" class=\"data row0 col8\" >7.60506e+08</td> \n",
       "        <td id=\"T_c4ac6074_456f_11e8_b68f_f46d043d872drow0_col9\" class=\"data row0 col9\" >['action', 'adventure', 'fantasy', 'sci-fi']</td> \n",
       "        <td id=\"T_c4ac6074_456f_11e8_b68f_f46d043d872drow0_col10\" class=\"data row0 col10\" >cchpounder</td> \n",
       "        <td id=\"T_c4ac6074_456f_11e8_b68f_f46d043d872drow0_col11\" class=\"data row0 col11\" >Avatar</td> \n",
       "        <td id=\"T_c4ac6074_456f_11e8_b68f_f46d043d872drow0_col12\" class=\"data row0 col12\" >886204</td> \n",
       "        <td id=\"T_c4ac6074_456f_11e8_b68f_f46d043d872drow0_col13\" class=\"data row0 col13\" >4834</td> \n",
       "        <td id=\"T_c4ac6074_456f_11e8_b68f_f46d043d872drow0_col14\" class=\"data row0 col14\" >wesstudi</td> \n",
       "        <td id=\"T_c4ac6074_456f_11e8_b68f_f46d043d872drow0_col15\" class=\"data row0 col15\" >0</td> \n",
       "        <td id=\"T_c4ac6074_456f_11e8_b68f_f46d043d872drow0_col16\" class=\"data row0 col16\" >['avatar', 'future', 'marine', 'native', 'paraplegic']</td> \n",
       "        <td id=\"T_c4ac6074_456f_11e8_b68f_f46d043d872drow0_col17\" class=\"data row0 col17\" >http://www.imdb.com/title/tt0499549/?ref_=fn_tt_tt_1</td> \n",
       "        <td id=\"T_c4ac6074_456f_11e8_b68f_f46d043d872drow0_col18\" class=\"data row0 col18\" >3054</td> \n",
       "        <td id=\"T_c4ac6074_456f_11e8_b68f_f46d043d872drow0_col19\" class=\"data row0 col19\" >English</td> \n",
       "        <td id=\"T_c4ac6074_456f_11e8_b68f_f46d043d872drow0_col20\" class=\"data row0 col20\" >USA</td> \n",
       "        <td id=\"T_c4ac6074_456f_11e8_b68f_f46d043d872drow0_col21\" class=\"data row0 col21\" >PG-13</td> \n",
       "        <td id=\"T_c4ac6074_456f_11e8_b68f_f46d043d872drow0_col22\" class=\"data row0 col22\" >2.37e+08</td> \n",
       "        <td id=\"T_c4ac6074_456f_11e8_b68f_f46d043d872drow0_col23\" class=\"data row0 col23\" >2009</td> \n",
       "        <td id=\"T_c4ac6074_456f_11e8_b68f_f46d043d872drow0_col24\" class=\"data row0 col24\" >936</td> \n",
       "        <td id=\"T_c4ac6074_456f_11e8_b68f_f46d043d872drow0_col25\" class=\"data row0 col25\" >7.9</td> \n",
       "        <td id=\"T_c4ac6074_456f_11e8_b68f_f46d043d872drow0_col26\" class=\"data row0 col26\" >1.78</td> \n",
       "        <td id=\"T_c4ac6074_456f_11e8_b68f_f46d043d872drow0_col27\" class=\"data row0 col27\" >33000</td> \n",
       "    </tr>    <tr> \n",
       "        <th id=\"T_c4ac6074_456f_11e8_b68f_f46d043d872dlevel0_row1\" class=\"row_heading level0 row1\" >1</th> \n",
       "        <td id=\"T_c4ac6074_456f_11e8_b68f_f46d043d872drow1_col0\" class=\"data row1 col0\" >Color</td> \n",
       "        <td id=\"T_c4ac6074_456f_11e8_b68f_f46d043d872drow1_col1\" class=\"data row1 col1\" >goreverbinski</td> \n",
       "        <td id=\"T_c4ac6074_456f_11e8_b68f_f46d043d872drow1_col2\" class=\"data row1 col2\" >302</td> \n",
       "        <td id=\"T_c4ac6074_456f_11e8_b68f_f46d043d872drow1_col3\" class=\"data row1 col3\" >169</td> \n",
       "        <td id=\"T_c4ac6074_456f_11e8_b68f_f46d043d872drow1_col4\" class=\"data row1 col4\" >563</td> \n",
       "        <td id=\"T_c4ac6074_456f_11e8_b68f_f46d043d872drow1_col5\" class=\"data row1 col5\" >1000</td> \n",
       "        <td id=\"T_c4ac6074_456f_11e8_b68f_f46d043d872drow1_col6\" class=\"data row1 col6\" >orlandobloom</td> \n",
       "        <td id=\"T_c4ac6074_456f_11e8_b68f_f46d043d872drow1_col7\" class=\"data row1 col7\" >40000</td> \n",
       "        <td id=\"T_c4ac6074_456f_11e8_b68f_f46d043d872drow1_col8\" class=\"data row1 col8\" >3.09404e+08</td> \n",
       "        <td id=\"T_c4ac6074_456f_11e8_b68f_f46d043d872drow1_col9\" class=\"data row1 col9\" >['action', 'adventure', 'fantasy']</td> \n",
       "        <td id=\"T_c4ac6074_456f_11e8_b68f_f46d043d872drow1_col10\" class=\"data row1 col10\" >johnnydepp</td> \n",
       "        <td id=\"T_c4ac6074_456f_11e8_b68f_f46d043d872drow1_col11\" class=\"data row1 col11\" >Pirates of the Caribbean: At World's End</td> \n",
       "        <td id=\"T_c4ac6074_456f_11e8_b68f_f46d043d872drow1_col12\" class=\"data row1 col12\" >471220</td> \n",
       "        <td id=\"T_c4ac6074_456f_11e8_b68f_f46d043d872drow1_col13\" class=\"data row1 col13\" >48350</td> \n",
       "        <td id=\"T_c4ac6074_456f_11e8_b68f_f46d043d872drow1_col14\" class=\"data row1 col14\" >jackdavenport</td> \n",
       "        <td id=\"T_c4ac6074_456f_11e8_b68f_f46d043d872drow1_col15\" class=\"data row1 col15\" >0</td> \n",
       "        <td id=\"T_c4ac6074_456f_11e8_b68f_f46d043d872drow1_col16\" class=\"data row1 col16\" >['goddess', 'marriage ceremony', 'marriage proposal', 'pirate', 'singapore']</td> \n",
       "        <td id=\"T_c4ac6074_456f_11e8_b68f_f46d043d872drow1_col17\" class=\"data row1 col17\" >http://www.imdb.com/title/tt0449088/?ref_=fn_tt_tt_1</td> \n",
       "        <td id=\"T_c4ac6074_456f_11e8_b68f_f46d043d872drow1_col18\" class=\"data row1 col18\" >1238</td> \n",
       "        <td id=\"T_c4ac6074_456f_11e8_b68f_f46d043d872drow1_col19\" class=\"data row1 col19\" >English</td> \n",
       "        <td id=\"T_c4ac6074_456f_11e8_b68f_f46d043d872drow1_col20\" class=\"data row1 col20\" >USA</td> \n",
       "        <td id=\"T_c4ac6074_456f_11e8_b68f_f46d043d872drow1_col21\" class=\"data row1 col21\" >PG-13</td> \n",
       "        <td id=\"T_c4ac6074_456f_11e8_b68f_f46d043d872drow1_col22\" class=\"data row1 col22\" >3e+08</td> \n",
       "        <td id=\"T_c4ac6074_456f_11e8_b68f_f46d043d872drow1_col23\" class=\"data row1 col23\" >2007</td> \n",
       "        <td id=\"T_c4ac6074_456f_11e8_b68f_f46d043d872drow1_col24\" class=\"data row1 col24\" >5000</td> \n",
       "        <td id=\"T_c4ac6074_456f_11e8_b68f_f46d043d872drow1_col25\" class=\"data row1 col25\" >7.1</td> \n",
       "        <td id=\"T_c4ac6074_456f_11e8_b68f_f46d043d872drow1_col26\" class=\"data row1 col26\" >2.35</td> \n",
       "        <td id=\"T_c4ac6074_456f_11e8_b68f_f46d043d872drow1_col27\" class=\"data row1 col27\" >0</td> \n",
       "    </tr>    <tr> \n",
       "        <th id=\"T_c4ac6074_456f_11e8_b68f_f46d043d872dlevel0_row2\" class=\"row_heading level0 row2\" >2</th> \n",
       "        <td id=\"T_c4ac6074_456f_11e8_b68f_f46d043d872drow2_col0\" class=\"data row2 col0\" >Color</td> \n",
       "        <td id=\"T_c4ac6074_456f_11e8_b68f_f46d043d872drow2_col1\" class=\"data row2 col1\" >sammendes</td> \n",
       "        <td id=\"T_c4ac6074_456f_11e8_b68f_f46d043d872drow2_col2\" class=\"data row2 col2\" >602</td> \n",
       "        <td id=\"T_c4ac6074_456f_11e8_b68f_f46d043d872drow2_col3\" class=\"data row2 col3\" >148</td> \n",
       "        <td id=\"T_c4ac6074_456f_11e8_b68f_f46d043d872drow2_col4\" class=\"data row2 col4\" >0</td> \n",
       "        <td id=\"T_c4ac6074_456f_11e8_b68f_f46d043d872drow2_col5\" class=\"data row2 col5\" >161</td> \n",
       "        <td id=\"T_c4ac6074_456f_11e8_b68f_f46d043d872drow2_col6\" class=\"data row2 col6\" >rorykinnear</td> \n",
       "        <td id=\"T_c4ac6074_456f_11e8_b68f_f46d043d872drow2_col7\" class=\"data row2 col7\" >11000</td> \n",
       "        <td id=\"T_c4ac6074_456f_11e8_b68f_f46d043d872drow2_col8\" class=\"data row2 col8\" >2.00074e+08</td> \n",
       "        <td id=\"T_c4ac6074_456f_11e8_b68f_f46d043d872drow2_col9\" class=\"data row2 col9\" >['action', 'adventure', 'thriller']</td> \n",
       "        <td id=\"T_c4ac6074_456f_11e8_b68f_f46d043d872drow2_col10\" class=\"data row2 col10\" >christophwaltz</td> \n",
       "        <td id=\"T_c4ac6074_456f_11e8_b68f_f46d043d872drow2_col11\" class=\"data row2 col11\" >Spectre</td> \n",
       "        <td id=\"T_c4ac6074_456f_11e8_b68f_f46d043d872drow2_col12\" class=\"data row2 col12\" >275868</td> \n",
       "        <td id=\"T_c4ac6074_456f_11e8_b68f_f46d043d872drow2_col13\" class=\"data row2 col13\" >11700</td> \n",
       "        <td id=\"T_c4ac6074_456f_11e8_b68f_f46d043d872drow2_col14\" class=\"data row2 col14\" >stephaniesigman</td> \n",
       "        <td id=\"T_c4ac6074_456f_11e8_b68f_f46d043d872drow2_col15\" class=\"data row2 col15\" >1</td> \n",
       "        <td id=\"T_c4ac6074_456f_11e8_b68f_f46d043d872drow2_col16\" class=\"data row2 col16\" >['bomb', 'espionage', 'sequel', 'spy', 'terrorist']</td> \n",
       "        <td id=\"T_c4ac6074_456f_11e8_b68f_f46d043d872drow2_col17\" class=\"data row2 col17\" >http://www.imdb.com/title/tt2379713/?ref_=fn_tt_tt_1</td> \n",
       "        <td id=\"T_c4ac6074_456f_11e8_b68f_f46d043d872drow2_col18\" class=\"data row2 col18\" >994</td> \n",
       "        <td id=\"T_c4ac6074_456f_11e8_b68f_f46d043d872drow2_col19\" class=\"data row2 col19\" >English</td> \n",
       "        <td id=\"T_c4ac6074_456f_11e8_b68f_f46d043d872drow2_col20\" class=\"data row2 col20\" >UK</td> \n",
       "        <td id=\"T_c4ac6074_456f_11e8_b68f_f46d043d872drow2_col21\" class=\"data row2 col21\" >PG-13</td> \n",
       "        <td id=\"T_c4ac6074_456f_11e8_b68f_f46d043d872drow2_col22\" class=\"data row2 col22\" >2.45e+08</td> \n",
       "        <td id=\"T_c4ac6074_456f_11e8_b68f_f46d043d872drow2_col23\" class=\"data row2 col23\" >2015</td> \n",
       "        <td id=\"T_c4ac6074_456f_11e8_b68f_f46d043d872drow2_col24\" class=\"data row2 col24\" >393</td> \n",
       "        <td id=\"T_c4ac6074_456f_11e8_b68f_f46d043d872drow2_col25\" class=\"data row2 col25\" >6.8</td> \n",
       "        <td id=\"T_c4ac6074_456f_11e8_b68f_f46d043d872drow2_col26\" class=\"data row2 col26\" >2.35</td> \n",
       "        <td id=\"T_c4ac6074_456f_11e8_b68f_f46d043d872drow2_col27\" class=\"data row2 col27\" >85000</td> \n",
       "    </tr>    <tr> \n",
       "        <th id=\"T_c4ac6074_456f_11e8_b68f_f46d043d872dlevel0_row3\" class=\"row_heading level0 row3\" >3</th> \n",
       "        <td id=\"T_c4ac6074_456f_11e8_b68f_f46d043d872drow3_col0\" class=\"data row3 col0\" >Color</td> \n",
       "        <td id=\"T_c4ac6074_456f_11e8_b68f_f46d043d872drow3_col1\" class=\"data row3 col1\" >christophernolan</td> \n",
       "        <td id=\"T_c4ac6074_456f_11e8_b68f_f46d043d872drow3_col2\" class=\"data row3 col2\" >813</td> \n",
       "        <td id=\"T_c4ac6074_456f_11e8_b68f_f46d043d872drow3_col3\" class=\"data row3 col3\" >164</td> \n",
       "        <td id=\"T_c4ac6074_456f_11e8_b68f_f46d043d872drow3_col4\" class=\"data row3 col4\" >22000</td> \n",
       "        <td id=\"T_c4ac6074_456f_11e8_b68f_f46d043d872drow3_col5\" class=\"data row3 col5\" >23000</td> \n",
       "        <td id=\"T_c4ac6074_456f_11e8_b68f_f46d043d872drow3_col6\" class=\"data row3 col6\" >christianbale</td> \n",
       "        <td id=\"T_c4ac6074_456f_11e8_b68f_f46d043d872drow3_col7\" class=\"data row3 col7\" >27000</td> \n",
       "        <td id=\"T_c4ac6074_456f_11e8_b68f_f46d043d872drow3_col8\" class=\"data row3 col8\" >4.48131e+08</td> \n",
       "        <td id=\"T_c4ac6074_456f_11e8_b68f_f46d043d872drow3_col9\" class=\"data row3 col9\" >['action', 'thriller']</td> \n",
       "        <td id=\"T_c4ac6074_456f_11e8_b68f_f46d043d872drow3_col10\" class=\"data row3 col10\" >tomhardy</td> \n",
       "        <td id=\"T_c4ac6074_456f_11e8_b68f_f46d043d872drow3_col11\" class=\"data row3 col11\" >The Dark Knight Rises</td> \n",
       "        <td id=\"T_c4ac6074_456f_11e8_b68f_f46d043d872drow3_col12\" class=\"data row3 col12\" >1144337</td> \n",
       "        <td id=\"T_c4ac6074_456f_11e8_b68f_f46d043d872drow3_col13\" class=\"data row3 col13\" >106759</td> \n",
       "        <td id=\"T_c4ac6074_456f_11e8_b68f_f46d043d872drow3_col14\" class=\"data row3 col14\" >josephgordon-levitt</td> \n",
       "        <td id=\"T_c4ac6074_456f_11e8_b68f_f46d043d872drow3_col15\" class=\"data row3 col15\" >0</td> \n",
       "        <td id=\"T_c4ac6074_456f_11e8_b68f_f46d043d872drow3_col16\" class=\"data row3 col16\" >['deception', 'imprisonment', 'lawlessness', 'police officer', 'terrorist plot']</td> \n",
       "        <td id=\"T_c4ac6074_456f_11e8_b68f_f46d043d872drow3_col17\" class=\"data row3 col17\" >http://www.imdb.com/title/tt1345836/?ref_=fn_tt_tt_1</td> \n",
       "        <td id=\"T_c4ac6074_456f_11e8_b68f_f46d043d872drow3_col18\" class=\"data row3 col18\" >2701</td> \n",
       "        <td id=\"T_c4ac6074_456f_11e8_b68f_f46d043d872drow3_col19\" class=\"data row3 col19\" >English</td> \n",
       "        <td id=\"T_c4ac6074_456f_11e8_b68f_f46d043d872drow3_col20\" class=\"data row3 col20\" >USA</td> \n",
       "        <td id=\"T_c4ac6074_456f_11e8_b68f_f46d043d872drow3_col21\" class=\"data row3 col21\" >PG-13</td> \n",
       "        <td id=\"T_c4ac6074_456f_11e8_b68f_f46d043d872drow3_col22\" class=\"data row3 col22\" >2.5e+08</td> \n",
       "        <td id=\"T_c4ac6074_456f_11e8_b68f_f46d043d872drow3_col23\" class=\"data row3 col23\" >2012</td> \n",
       "        <td id=\"T_c4ac6074_456f_11e8_b68f_f46d043d872drow3_col24\" class=\"data row3 col24\" >23000</td> \n",
       "        <td id=\"T_c4ac6074_456f_11e8_b68f_f46d043d872drow3_col25\" class=\"data row3 col25\" >8.5</td> \n",
       "        <td id=\"T_c4ac6074_456f_11e8_b68f_f46d043d872drow3_col26\" class=\"data row3 col26\" >2.35</td> \n",
       "        <td id=\"T_c4ac6074_456f_11e8_b68f_f46d043d872drow3_col27\" class=\"data row3 col27\" >164000</td> \n",
       "    </tr>    <tr> \n",
       "        <th id=\"T_c4ac6074_456f_11e8_b68f_f46d043d872dlevel0_row4\" class=\"row_heading level0 row4\" >4</th> \n",
       "        <td id=\"T_c4ac6074_456f_11e8_b68f_f46d043d872drow4_col0\" class=\"data row4 col0\" ></td> \n",
       "        <td id=\"T_c4ac6074_456f_11e8_b68f_f46d043d872drow4_col1\" class=\"data row4 col1\" >dougwalker</td> \n",
       "        <td id=\"T_c4ac6074_456f_11e8_b68f_f46d043d872drow4_col2\" class=\"data row4 col2\" ></td> \n",
       "        <td id=\"T_c4ac6074_456f_11e8_b68f_f46d043d872drow4_col3\" class=\"data row4 col3\" ></td> \n",
       "        <td id=\"T_c4ac6074_456f_11e8_b68f_f46d043d872drow4_col4\" class=\"data row4 col4\" >131</td> \n",
       "        <td id=\"T_c4ac6074_456f_11e8_b68f_f46d043d872drow4_col5\" class=\"data row4 col5\" ></td> \n",
       "        <td id=\"T_c4ac6074_456f_11e8_b68f_f46d043d872drow4_col6\" class=\"data row4 col6\" >robwalker</td> \n",
       "        <td id=\"T_c4ac6074_456f_11e8_b68f_f46d043d872drow4_col7\" class=\"data row4 col7\" >131</td> \n",
       "        <td id=\"T_c4ac6074_456f_11e8_b68f_f46d043d872drow4_col8\" class=\"data row4 col8\" ></td> \n",
       "        <td id=\"T_c4ac6074_456f_11e8_b68f_f46d043d872drow4_col9\" class=\"data row4 col9\" >['documentary']</td> \n",
       "        <td id=\"T_c4ac6074_456f_11e8_b68f_f46d043d872drow4_col10\" class=\"data row4 col10\" >dougwalker</td> \n",
       "        <td id=\"T_c4ac6074_456f_11e8_b68f_f46d043d872drow4_col11\" class=\"data row4 col11\" >Star Wars: Episode VII - The Force Awakens</td> \n",
       "        <td id=\"T_c4ac6074_456f_11e8_b68f_f46d043d872drow4_col12\" class=\"data row4 col12\" >8</td> \n",
       "        <td id=\"T_c4ac6074_456f_11e8_b68f_f46d043d872drow4_col13\" class=\"data row4 col13\" >143</td> \n",
       "        <td id=\"T_c4ac6074_456f_11e8_b68f_f46d043d872drow4_col14\" class=\"data row4 col14\" ></td> \n",
       "        <td id=\"T_c4ac6074_456f_11e8_b68f_f46d043d872drow4_col15\" class=\"data row4 col15\" >0</td> \n",
       "        <td id=\"T_c4ac6074_456f_11e8_b68f_f46d043d872drow4_col16\" class=\"data row4 col16\" ></td> \n",
       "        <td id=\"T_c4ac6074_456f_11e8_b68f_f46d043d872drow4_col17\" class=\"data row4 col17\" >http://www.imdb.com/title/tt5289954/?ref_=fn_tt_tt_1</td> \n",
       "        <td id=\"T_c4ac6074_456f_11e8_b68f_f46d043d872drow4_col18\" class=\"data row4 col18\" ></td> \n",
       "        <td id=\"T_c4ac6074_456f_11e8_b68f_f46d043d872drow4_col19\" class=\"data row4 col19\" ></td> \n",
       "        <td id=\"T_c4ac6074_456f_11e8_b68f_f46d043d872drow4_col20\" class=\"data row4 col20\" ></td> \n",
       "        <td id=\"T_c4ac6074_456f_11e8_b68f_f46d043d872drow4_col21\" class=\"data row4 col21\" ></td> \n",
       "        <td id=\"T_c4ac6074_456f_11e8_b68f_f46d043d872drow4_col22\" class=\"data row4 col22\" ></td> \n",
       "        <td id=\"T_c4ac6074_456f_11e8_b68f_f46d043d872drow4_col23\" class=\"data row4 col23\" ></td> \n",
       "        <td id=\"T_c4ac6074_456f_11e8_b68f_f46d043d872drow4_col24\" class=\"data row4 col24\" >12</td> \n",
       "        <td id=\"T_c4ac6074_456f_11e8_b68f_f46d043d872drow4_col25\" class=\"data row4 col25\" >7.1</td> \n",
       "        <td id=\"T_c4ac6074_456f_11e8_b68f_f46d043d872drow4_col26\" class=\"data row4 col26\" ></td> \n",
       "        <td id=\"T_c4ac6074_456f_11e8_b68f_f46d043d872drow4_col27\" class=\"data row4 col27\" >0</td> \n",
       "    </tr></tbody> \n",
       "</table> "
      ],
      "text/plain": [
       "<pandas.io.formats.style.Styler at 0x1dd32f32748>"
      ]
     },
     "execution_count": 268,
     "metadata": {},
     "output_type": "execute_result"
    }
   ],
   "source": [
    "df.head(5).style"
   ]
  },
  {
   "cell_type": "code",
   "execution_count": 269,
   "metadata": {},
   "outputs": [],
   "source": [
    "df=df.fillna('')\n",
    "def create_metadata(x):\n",
    "    return x['plot_keywords']+ ' ' + x['genres'] + ' ' + x['actor_1_name']+ ' ' + x['actor_2_name']+ ' ' + x['actor_3_name']+ ' ' + x['director_name'] \n",
    "            \n",
    "df['metadata']=df.apply(create_metadata,axis=1)"
   ]
  },
  {
   "cell_type": "code",
   "execution_count": 270,
   "metadata": {},
   "outputs": [],
   "source": [
    "count = CountVectorizer()\n",
    "count_matrix = count.fit_transform(df['metadata'])\n",
    "cosine_sim = cosine_similarity(count_matrix, count_matrix)"
   ]
  },
  {
   "cell_type": "code",
   "execution_count": 271,
   "metadata": {},
   "outputs": [],
   "source": [
    "df = df.reset_index()\n",
    "indices = pd.Series(df.index, index=df['movie_title'])"
   ]
  },
  {
   "cell_type": "markdown",
   "metadata": {},
   "source": [
    "### First recommendation process, using a metadata soup that takes the director, genre, plot keywords and main 3 actors into account"
   ]
  },
  {
   "cell_type": "code",
   "execution_count": 342,
   "metadata": {},
   "outputs": [],
   "source": [
    "def get_recommendations1(title):\n",
    "    \n",
    "    index=indices[title]\n",
    "    sim_scores=list(enumerate(cosine_sim1[index]))\n",
    "    sim_scores = sorted(sim_scores, key=lambda x: x[1], reverse=True)\n",
    "    sim_scores = sim_scores[1:6]\n",
    "    movie_indices = [i[0] for i in sim_scores]\n",
    "    return df[['movie_title','movie_imdb_link','imdb_score']].iloc[movie_indices]"
   ]
  },
  {
   "cell_type": "code",
   "execution_count": 320,
   "metadata": {},
   "outputs": [],
   "source": [
    "count_matrix1 = count.fit_transform(df['genres'])\n",
    "cosine_sim1 = cosine_similarity(count_matrix1, count_matrix1)\n",
    "\n",
    "count_matrix2 = count.fit_transform(df['plot_keywords'])\n",
    "cosine_sim2 = cosine_similarity(count_matrix2, count_matrix2)\n",
    "\n",
    "count_matrix3 = count.fit_transform(df['director_name'])\n",
    "cosine_sim3 = cosine_similarity(count_matrix3, count_matrix3)\n",
    "\n",
    "count_matrix4 = count.fit_transform(df['actor_1_name'])\n",
    "cosine_sim4 = cosine_similarity(count_matrix4, count_matrix4)\n",
    "\n",
    "count_matrix5 = count.fit_transform(df['actor_2_name'])\n",
    "cosine_sim5 = cosine_similarity(count_matrix5, count_matrix5)\n",
    "\n",
    "count_matrix6 = count.fit_transform(df['actor_3_name'])\n",
    "cosine_sim6 = cosine_similarity(count_matrix6, count_matrix6)"
   ]
  },
  {
   "cell_type": "markdown",
   "metadata": {},
   "source": [
    "### Second recommendation engine will use weighed similarity scores for each feature in order of importance, then sort the most similar movies by IMDB score before suggesting them"
   ]
  },
  {
   "cell_type": "code",
   "execution_count": 350,
   "metadata": {},
   "outputs": [],
   "source": [
    "def get_recommendations2(title):\n",
    "    \n",
    "    index=indices[title]\n",
    "    sim_scores1=list(enumerate(cosine_sim1[index]))\n",
    "    sim_scores2=list(enumerate(cosine_sim2[index]))\n",
    "    sim_scores3=list(enumerate(cosine_sim3[index]))\n",
    "    sim_scores4=list(enumerate(cosine_sim4[index]))\n",
    "    sim_scores5=list(enumerate(cosine_sim5[index]))\n",
    "    sim_scores6=list(enumerate(cosine_sim6[index]))\n",
    "    sim_scores=[score1[1]+0.75*score2[1]+0.5*score3[1]+0.1*score4[1]+0.1*score5[1]+0.1*score6[1] for score1,score2,score3,score4,score5,score6 in zip(sim_scores1,sim_scores2,sim_scores3,sim_scores4,sim_scores5,sim_scores6)]\n",
    "    weighted_scores = pd.Series(sim_scores)\n",
    "    weighted_scores=weighted_scores.sort_values(ascending=False)\n",
    "    weighted_scores = weighted_scores[1:20]    \n",
    "    movie_indices = [i for i in weighted_scores.index]\n",
    "    final_scores=weighted_scores+df['imdb_score'].iloc[movie_indices]\n",
    "    final_scores=final_scores.sort_values(ascending=False)\n",
    "    final_scores=final_scores[0:5]\n",
    "    movie_indices = [i for i in final_scores.index]\n",
    "    return df[['movie_title','movie_imdb_link','imdb_score']].iloc[movie_indices]"
   ]
  },
  {
   "cell_type": "code",
   "execution_count": 352,
   "metadata": {
    "scrolled": true
   },
   "outputs": [
    {
     "name": "stdout",
     "output_type": "stream",
     "text": [
      "              movie_title                                    movie_imdb_link  \\\n",
      "1441  Queen of the Damned  http://www.imdb.com/title/tt0238546/?ref_=fn_t...   \n",
      "1646               Carrie  http://www.imdb.com/title/tt1939659/?ref_=fn_t...   \n",
      "136           The Wolfman  http://www.imdb.com/title/tt0780653/?ref_=fn_t...   \n",
      "531           Constantine  http://www.imdb.com/title/tt3489184/?ref_=fn_t...   \n",
      "1123         The Returned  http://www.imdb.com/title/tt2521668/?ref_=fn_t...   \n",
      "\n",
      "      imdb_score  \n",
      "1441         5.2  \n",
      "1646         5.9  \n",
      "136          5.8  \n",
      "531          7.5  \n",
      "1123         8.3  \n"
     ]
    }
   ],
   "source": [
    "print(get_recommendations1('Carrie'))"
   ]
  },
  {
   "cell_type": "code",
   "execution_count": 353,
   "metadata": {},
   "outputs": [
    {
     "name": "stdout",
     "output_type": "stream",
     "text": [
      "                                            movie_title  \\\n",
      "2333                                        The Shining   \n",
      "1123                                       The Returned   \n",
      "931   Interview with the Vampire: The Vampire Chroni...   \n",
      "531                                         Constantine   \n",
      "1425                                        Poltergeist   \n",
      "\n",
      "                                        movie_imdb_link  imdb_score  \n",
      "2333  http://www.imdb.com/title/tt0081505/?ref_=fn_t...         8.4  \n",
      "1123  http://www.imdb.com/title/tt2521668/?ref_=fn_t...         8.3  \n",
      "931   http://www.imdb.com/title/tt0110148/?ref_=fn_t...         7.6  \n",
      "531   http://www.imdb.com/title/tt3489184/?ref_=fn_t...         7.5  \n",
      "1425  http://www.imdb.com/title/tt0084516/?ref_=fn_t...         7.4  \n"
     ]
    }
   ],
   "source": [
    "print(get_recommendations2('Carrie'))"
   ]
  },
  {
   "cell_type": "code",
   "execution_count": null,
   "metadata": {},
   "outputs": [],
   "source": []
  }
 ],
 "metadata": {
  "kernelspec": {
   "display_name": "Python 3",
   "language": "python",
   "name": "python3"
  },
  "language_info": {
   "codemirror_mode": {
    "name": "ipython",
    "version": 3
   },
   "file_extension": ".py",
   "mimetype": "text/x-python",
   "name": "python",
   "nbconvert_exporter": "python",
   "pygments_lexer": "ipython3",
   "version": "3.6.4"
  }
 },
 "nbformat": 4,
 "nbformat_minor": 2
}
